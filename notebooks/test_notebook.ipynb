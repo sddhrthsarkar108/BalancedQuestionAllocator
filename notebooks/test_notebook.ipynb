{
 "cells": [
  {
   "cell_type": "code",
   "execution_count": 1,
   "metadata": {},
   "outputs": [
    {
     "name": "stdout",
     "output_type": "stream",
     "text": [
      "{'UserId': 'AIDA6GBMB7YZMOLN5WVXS', 'Account': '975049981490', 'Arn': 'arn:aws:iam::975049981490:user/sidsar', 'ResponseMetadata': {'RequestId': '4d2f4294-eb16-4adf-b345-1310a4827721', 'HTTPStatusCode': 200, 'HTTPHeaders': {'x-amzn-requestid': '4d2f4294-eb16-4adf-b345-1310a4827721', 'content-type': 'text/xml', 'content-length': '403', 'date': 'Tue, 16 Jul 2024 07:47:42 GMT'}, 'RetryAttempts': 0}}\n"
     ]
    }
   ],
   "source": [
    "import boto3\n",
    "\n",
    "sts_client = boto3.client('sts')\n",
    "response = sts_client.get_caller_identity()\n",
    "print(response)"
   ]
  }
 ],
 "metadata": {
  "kernelspec": {
   "display_name": ".venv",
   "language": "python",
   "name": "python3"
  },
  "language_info": {
   "codemirror_mode": {
    "name": "ipython",
    "version": 3
   },
   "file_extension": ".py",
   "mimetype": "text/x-python",
   "name": "python",
   "nbconvert_exporter": "python",
   "pygments_lexer": "ipython3",
   "version": "3.12.0"
  }
 },
 "nbformat": 4,
 "nbformat_minor": 2
}
